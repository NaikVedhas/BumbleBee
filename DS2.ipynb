{
  "nbformat": 4,
  "nbformat_minor": 0,
  "metadata": {
    "colab": {
      "provenance": [],
      "toc_visible": true,
      "authorship_tag": "ABX9TyNkJuV+ROZXVjbzXCJjlhvw",
      "include_colab_link": true
    },
    "kernelspec": {
      "name": "python3",
      "display_name": "Python 3"
    },
    "language_info": {
      "name": "python"
    }
  },
  "cells": [
    {
      "cell_type": "markdown",
      "metadata": {
        "id": "view-in-github",
        "colab_type": "text"
      },
      "source": [
        "<a href=\"https://colab.research.google.com/github/NaikVedhas/BumbleBee/blob/main/DS2.ipynb\" target=\"_parent\"><img src=\"https://colab.research.google.com/assets/colab-badge.svg\" alt=\"Open In Colab\"/></a>"
      ]
    },
    {
      "cell_type": "code",
      "source": [
        "import os\n",
        "import numpy as np\n",
        "from skimage.color import rgb2gray\n",
        "from skimage.feature import hog\n",
        "from PIL import Image, UnidentifiedImageError"
      ],
      "metadata": {
        "id": "XdcTQFbAkijI"
      },
      "execution_count": null,
      "outputs": []
    },
    {
      "cell_type": "code",
      "source": [
        "def img_to_np(img_path):\n",
        "    try:\n",
        "        img = Image.open(img_path)\n",
        "        img = img.convert(\"RGB\") # ensure img is in RGB\n",
        "        new_img = img.resize((64, 64))\n",
        "        return np.array(new_img)\n",
        "\n",
        "    except (IOError, UnidentifiedImageError):\n",
        "        return None"
      ],
      "metadata": {
        "id": "6fc2odGRkkdW"
      },
      "execution_count": null,
      "outputs": []
    },
    {
      "cell_type": "code",
      "source": [
        "def row_of_features(img):\n",
        "    # 3 channel img to single row\n",
        "    color_features = img.flatten()\n",
        "\n",
        "    gray_img = rgb2gray(img)\n",
        "\n",
        "    hog_features = hog(gray_img, block_norm='L2-Hys', pixels_per_cell=(16, 16))\n",
        "\n",
        "    # combine color & hog features into a single array\n",
        "    row = np.hstack((color_features, hog_features))\n",
        "\n",
        "    return row"
      ],
      "metadata": {
        "id": "Lo0Iij3RkmXP"
      },
      "execution_count": null,
      "outputs": []
    },
    {
      "cell_type": "code",
      "source": [
        "def gradient_descent(X, y, alpha, iterations):\n",
        "    n, k = X.shape\n",
        "\n",
        "    X = np.c_[np.ones((n, 1)), X] # Adds a col of ones at the beginning\n",
        "\n",
        "    beta = np.zeros(k + 1) # initialize beta\n",
        "\n",
        "    for i in range(iterations):\n",
        "        y_pred = sigmoid(np.dot(X, beta))\n",
        "\n",
        "        gradient = (1 / n) * np.dot(X.T, (y_pred - y))\n",
        "\n",
        "        beta -= alpha * gradient # new beta values\n",
        "\n",
        "    return beta"
      ],
      "metadata": {
        "id": "6TIRjJK3kyaO"
      },
      "execution_count": null,
      "outputs": []
    },
    {
      "cell_type": "code",
      "source": [
        "def sigmoid(z):\n",
        "    return 1 / (1 + np.exp(-z))"
      ],
      "metadata": {
        "id": "JShcr9V8kp0u"
      },
      "execution_count": null,
      "outputs": []
    },
    {
      "cell_type": "code",
      "source": [
        "def predict(X, beta):\n",
        "    X = np.c_[np.ones((X.shape[0], 1)), X] # Adds a col of ones at the beginning\n",
        "\n",
        "    probabilites = sigmoid(np.dot(X, beta))\n",
        "    y_pred = (probabilites >= 0.5).astype(int)\n",
        "\n",
        "    return y_pred"
      ],
      "metadata": {
        "id": "6uLpQS9Fk2Gd"
      },
      "execution_count": null,
      "outputs": []
    },
    {
      "cell_type": "code",
      "execution_count": null,
      "metadata": {
        "colab": {
          "base_uri": "https://localhost:8080/"
        },
        "id": "dl3AAPsQj88W",
        "outputId": "36494333-fb80-4fd7-9825-575532620954"
      },
      "outputs": [
        {
          "output_type": "stream",
          "name": "stdout",
          "text": [
            "Requirement already satisfied: importnb in /usr/local/lib/python3.11/dist-packages (2023.11.1)\n"
          ]
        }
      ],
      "source": [
        "!pip install importnb\n"
      ]
    },
    {
      "cell_type": "code",
      "source": [
        "import os\n",
        "import joblib\n",
        "import importnb\n",
        "\n"
      ],
      "metadata": {
        "id": "JeLBj-IukCKe"
      },
      "execution_count": null,
      "outputs": []
    },
    {
      "cell_type": "code",
      "source": [
        "# load necessary models\n",
        "\n",
        "ss = joblib.load(\"Models/standard_scaler.pkl\")\n",
        "pca = joblib.load(\"Models/pca.pkl\")"
      ],
      "metadata": {
        "id": "zLzZqa9JkESO"
      },
      "execution_count": null,
      "outputs": []
    },
    {
      "cell_type": "code",
      "source": [
        "def predict_img(img_path, model_name):\n",
        "    model_path = os.path.join(\"Models\", f\"{model_name}.pkl\")\n",
        "    model = joblib.load(model_path)\n",
        "\n",
        "    np_img = img_to_np(img_path)\n",
        "    features = row_of_features(np_img)\n",
        "    features = features.reshape(1, -1)\n",
        "\n",
        "    features_ss = ss.transform(features)\n",
        "    features_pca = pca.transform(features_ss)\n",
        "\n",
        "    if (model_name == \"logistic_regression\"):\n",
        "        beta = model\n",
        "        prediction = predict(features_pca, beta)\n",
        "\n",
        "    else:\n",
        "        prediction = model.predict(features_pca)\n",
        "\n",
        "    if prediction == 0:\n",
        "        print(\"Genus: Apis\")\n",
        "\n",
        "    else:\n",
        "        print(\"Genus: Bombus\")"
      ],
      "metadata": {
        "id": "doEEvt_ekGh2"
      },
      "execution_count": null,
      "outputs": []
    },
    {
      "cell_type": "code",
      "source": [
        "img_path = r\"/content/images (1).jpg\" # Replace with your image path"
      ],
      "metadata": {
        "id": "lRB-XrBZkJcW"
      },
      "execution_count": null,
      "outputs": []
    },
    {
      "cell_type": "code",
      "source": [
        "print(\"Original image: apis\")\n",
        "predict_img(img_path, \"logistic_regression\") # - sahi\n",
        "predict_img(img_path, \"knn\")\n",
        "predict_img(img_path, \"naive_bayes\")\n",
        "predict_img(img_path, \"svm\")  #svm\n",
        "predict_img(img_path, \"decision_tree\") #- sahi\n",
        "predict_img(img_path, \"random_forest\")"
      ],
      "metadata": {
        "colab": {
          "base_uri": "https://localhost:8080/"
        },
        "id": "ERh5rCPFkLwO",
        "outputId": "4dbb4b4f-949a-4413-a20e-c572c5520489"
      },
      "execution_count": null,
      "outputs": [
        {
          "output_type": "stream",
          "name": "stdout",
          "text": [
            "Original image: apis\n",
            "Genus: Bombus\n",
            "Genus: Bombus\n",
            "Genus: Apis\n",
            "Genus: Bombus\n",
            "Genus: Apis\n",
            "Genus: Bombus\n"
          ]
        }
      ]
    }
  ]
}